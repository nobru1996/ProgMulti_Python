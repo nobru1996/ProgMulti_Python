{
 "cells": [
  {
   "cell_type": "markdown",
   "metadata": {},
   "source": [
    "Exercícios09 - Lista de Exercícios Python\n",
    " \n",
    "### Nome: Bruno Gabriel Santos Capristo - RA: 816111491 SI3ANMCA"
   ]
  },
  {
   "cell_type": "markdown",
   "metadata": {},
   "source": [
    "#### 1- Faça um Programa que peça dois números e imprima o maior deles."
   ]
  },
  {
   "cell_type": "code",
   "execution_count": null,
   "metadata": {},
   "outputs": [],
   "source": [
    "x = float(input(\"Digite um número: \"))\n",
    "y = float(input(\"Digite outro número: \"))\n",
    "lst = [x, y]\n",
    "print(\"O maior valor entre %1.2f e %1.2f é: %1.2f\" %(x, y, max(lst)))"
   ]
  },
  {
   "cell_type": "markdown",
   "metadata": {},
   "source": [
    "#### 2- Faça um Programa que verifique se uma letra digitada é vogal ou consoante."
   ]
  },
  {
   "cell_type": "code",
   "execution_count": null,
   "metadata": {},
   "outputs": [],
   "source": [
    "x = input(\"Digite uma letra: \")\n",
    "if(len(x) > 1):\n",
    "    print('Digite apenas uma letra!')\n",
    "elif(x.upper() == 'A' or x.upper() == 'E' or x.upper() == 'I' or x.upper() == 'O' or x.upper() == 'U'):\n",
    "    print(f'{x} é uma vogal!')\n",
    "else:\n",
    "    print(f'{x} é uma consoante!')"
   ]
  },
  {
   "cell_type": "markdown",
   "metadata": {},
   "source": [
    "#### 3- Faça um programa para a leitura de duas notas parciais de um aluno. O programa deve calcular a média alcançada por aluno e apresentar:\n",
    "- A mensagem \"Aprovado\", se a média alcançada for maior ou igual a sete;\n",
    "- A mensagem \"Reprovado\", se a média for menor do que sete;\n",
    "- A mensagem \"Aprovado com Distinção\", se a média for igual a dez."
   ]
  },
  {
   "cell_type": "code",
   "execution_count": null,
   "metadata": {},
   "outputs": [],
   "source": [
    "x = float(input(\"Insira a primeira nota: \"))\n",
    "y = float(input(\"Insira a segunda nota: \"))\n",
    "lst = [x, y]\n",
    "msg = ['Aprovado', 'Reprovado', 'Aprovado com Distinção']\n",
    "average = (sum(lst)/len(lst))\n",
    "\n",
    "if average == 10:\n",
    "    print(\"Média: %.2f - Status: %s\" %(average, msg[2]))\n",
    "elif average>= 7 and average < 10:\n",
    "    print(\"Média: %.2f - Status: %s\" %(average, msg[0]))\n",
    "elif average < 7:\n",
    "    print(\"Média: %.2f - Status: %s\" %(average, msg[1]))\n"
   ]
  },
  {
   "cell_type": "markdown",
   "metadata": {},
   "source": [
    "#### 4- Faça um Programa que leia três números e mostre-os em ordem decrescente."
   ]
  },
  {
   "cell_type": "code",
   "execution_count": null,
   "metadata": {},
   "outputs": [],
   "source": [
    "x = float(input(\"Insira um número: \"))\n",
    "y = float(input(\"Insira outro número: \"))\n",
    "z = float(input(\"Insira mais um número: \"))\n",
    "lst = [x, y, z]\n",
    "lst.sort(reverse = True)\n",
    "print(lst)"
   ]
  },
  {
   "cell_type": "markdown",
   "metadata": {},
   "source": [
    "#### 5- As Organizações Tabajara resolveram dar um aumento de salário aos seus colaboradores e lhe contrataram para desenvolver o programa que calculará os reajustes.\n",
    "Faça um programa que recebe o salário de um colaborador e o reajuste segundo o seguinte critério, baseado no salário atual:\n",
    "- salários até R$ 280,00 (incluindo) : aumento de 20%\n",
    "- salários entre R$ 280,00 e R$ 700,00 : aumento de 15%\n",
    "- salários entre R$ 700,00 e R$ 1500,00 : aumento de 10%\n",
    "- salários de R$ 1500,00 em diante : aumento de 5% Após o aumento ser realizado, informe na tela:\n",
    "- o salário antes do reajuste;\n",
    "- o percentual de aumento aplicado;\n",
    "- o valor do aumento;\n",
    "- o novo salário, após o aumento."
   ]
  },
  {
   "cell_type": "code",
   "execution_count": null,
   "metadata": {},
   "outputs": [],
   "source": [
    "salario = float(input(\"Insira o valor do salário: \"))\n",
    "reajuste = [1.20, 1.15, 1.10, 1.05]\n",
    "labels = ['salario antigo', 'percentual aplicado', 'valor do aumento', 'novo salario']\n",
    "x = 0\n",
    "\n",
    "if(salario <= 280):\n",
    "    y = 0\n",
    "elif(salario > 280 and salario <= 700):\n",
    "    y = 1\n",
    "elif(salario > 700 and salario <= 1500):\n",
    "    y = 2\n",
    "else:\n",
    "    y = 3\n",
    "    \n",
    "novo_salario = salario * reajuste[y]\n",
    "percentual = ((1 - reajuste[y])*100)*(-1)\n",
    "vlr_aumento = novo_salario - salario\n",
    "labels_v = [salario, percentual, vlr_aumento, novo_salario]\n",
    "\n",
    "while x <= 3:\n",
    "    if x == 0:\n",
    "        print('\\n')\n",
    "        print(f'{labels[x]} = %.2f' %(labels_v[x]))\n",
    "        print(30*'-')\n",
    "    else:\n",
    "        print(f'{labels[x]} = %.2f' %(labels_v[x]))\n",
    "        print(30*'-')\n",
    "    x += 1\n",
    "salario = novo_salario"
   ]
  },
  {
   "cell_type": "markdown",
   "metadata": {},
   "source": [
    "#### 6- Faça um Programa que leia um número e exiba o dia correspondente da semana. \n",
    "(1-Domingo, 2- Segunda, etc.), se digitar outro valor deve aparecer valor inválido."
   ]
  },
  {
   "cell_type": "code",
   "execution_count": null,
   "metadata": {
    "collapsed": true
   },
   "outputs": [],
   "source": [
    "dia = int(input(\"Insira o dia da semana: \"))\n",
    "lst_semana = {1:'Domingo', 2:'Segunda-feira', 3:'Terça-feira', 4:'Quarta-feira', 5:'Quinta-feira', \n",
    "              6:'Sexta-feira', 7:'Sábado'}\n",
    "if dia > 7:\n",
    "    print(\"Intervalo inválido\")\n",
    "else:\n",
    "    print(\"O dia da semana digitado equivale à: {}\".format(lst_semana[dia]))"
   ]
  },
  {
   "cell_type": "markdown",
   "metadata": {
    "collapsed": true
   },
   "source": [
    "#### 7- Faça um programa que lê as duas notas parciais obtidas por um aluno numa disciplina ao longo de um semestre, e calcule a sua média. A atribuição de conceitos obedece à tabela abaixo:\n",
    "Média de Aproveitamento Conceito\n",
    "Entre 9.0 e 10.0 A\n",
    "Entre 7.5 e 9.0 B\n",
    "Entre 6.0 e 7.5 C\n",
    "Entre 4.0 e 6.0 D\n",
    "Entre 4.0 e zero E\n",
    "O algoritmo deve mostrar na tela as notas, a média, o conceito correspondente e a mensagem “APROVADO” se o conceito for A, B ou C ou “REPROVADO” se o conceito for D ou E."
   ]
  },
  {
   "cell_type": "code",
   "execution_count": null,
   "metadata": {},
   "outputs": [],
   "source": [
    "n1 = float(input(\"Insira a nota 1: \"))\n",
    "n2 = float(input(\"Insira a nota 2: \"))\n",
    "notas = [n1, n2]\n",
    "media = sum(notas)/len(notas)\n",
    "conceito = {'Entre 9.0 e 10.0':'A', 'Entre 7.5 e 9.0':'B','Entre 6.0 e 7.5':'C',\n",
    "            'Entre 4.0 e 6.0':'D','Entre 4.0 e zero':'E' }\n",
    "status = list(conceito.values())\n",
    "conceito_usado = list(conceito.keys())\n",
    "\n",
    "if(media < 0 or media > 10):\n",
    "    print(\"Média inválida\")\n",
    "    status = ['Inválido']\n",
    "    conceito_usado = ['Inválido']\n",
    "    y = 0\n",
    "elif(media >= 0 and media < 4):\n",
    "    y = 4\n",
    "elif(media >= 4 and media < 6):\n",
    "    y = 3\n",
    "elif(media >= 6 and media < 7.5):\n",
    "    y = 2\n",
    "elif(media >= 7.5 and media < 9):\n",
    "    y = 1\n",
    "else:\n",
    "    y = 0\n",
    "    \n",
    "conceito_fim = status[y]\n",
    "desc = conceito_usado[y]\n",
    "\n",
    "if(conceito_fim == 'Inválido'):\n",
    "    mensagem = 'Média inválida!'\n",
    "elif(conceito_fim == 'A' or conceito_fim == 'B' or conceito_fim == 'C'):\n",
    "    mensagem = \"APROVADO\"\n",
    "else:\n",
    "    mensagem = \"REPROVADO\"\n",
    "    \n",
    "print(30*'-')   \n",
    "print(f\"Nota 1: {n1} \\nNota 2: {n2} \\nMédia: {media} \\nConceito: {desc} \\nResultado: {conceito_fim} \\nMensagem: {mensagem}\")"
   ]
  },
  {
   "cell_type": "markdown",
   "metadata": {},
   "source": [
    "#### 8- Faça um Programa que peça os 3 lados de um triângulo. O programa deverá informar se os valores podem ser um triângulo. \n",
    "Indique, caso os lados formem um triângulo, se o mesmo é: equilátero, isósceles ou escaleno.\n",
    "Dicas:\n",
    "- Três lados formam um triângulo quando a soma de quaisquer dois lados for maior que o terceiro;\n",
    "- Triângulo Equilátero: três lados iguais;\n",
    "- Triângulo Isósceles: quaisquer dois lados iguais;\n",
    "- Triângulo Escaleno: três lados diferentes;"
   ]
  },
  {
   "cell_type": "code",
   "execution_count": null,
   "metadata": {},
   "outputs": [],
   "source": [
    "def soma(x,y):\n",
    "    return x + y\n",
    "\n",
    "l1 = float(input(\"Insira o lado 1 da figura: \"))\n",
    "l2 = float(input(\"Insira o lado 2 da figura: \"))\n",
    "l3 = float(input(\"Insira o lado 3 da figura: \"))\n",
    "tipo = ['Equilátero', 'Isósceles', 'Escaleno']\n",
    "\n",
    "if(soma(l1,l2) > l3 or soma(l1,l3) > l2 or soma(l2,l3) > l1):\n",
    "    if(l1 == l2 and l1 == l3 and l2 == l3):\n",
    "        print(\"É um triângulo do tipo %s\" %(tipo[0]))\n",
    "    elif(l1 == l2 or l1 == l3 or l2 == l3):\n",
    "        print(\"É um triângulo do tipo %s\" %(tipo[1]))\n",
    "    else:\n",
    "        print(\"É um triângulo do tipo %s\" %(tipo[2]))\n",
    "else:\n",
    "    print(\"Não é um triângulo!\")"
   ]
  },
  {
   "cell_type": "markdown",
   "metadata": {
    "collapsed": true
   },
   "source": [
    "#### 9- Faça um programa que calcule as raízes de uma equação do segundo grau, na forma ax2 + bx + c. O programa deverá pedir os valores de a, b e c e fazer as consistências, informando ao usuário nas seguintes situações:\n",
    "- Se o usuário informar o valor de A igual a zero, a equação não é do segundo grau e o programa não deve fazer pedir os demais valores, sendo encerrado;\n",
    "- Se o delta calculado for negativo, a equação não possui raizes reais. Informe ao usuário e encerre o programa;\n",
    "- Se o delta calculado for igual a zero a equação possui apenas uma raiz real;\n",
    "informe-a ao usuário;\n",
    "- Se o delta for positivo, a equação possui duas raiz reais; informe-as ao usuário;"
   ]
  },
  {
   "cell_type": "code",
   "execution_count": null,
   "metadata": {},
   "outputs": [],
   "source": [
    "#função que calcula o delta\n",
    "def delta(a,b,c):\n",
    "    delta_v = (b ** 2 - 4 * a * c)\n",
    "    return delta_v\n",
    "\n",
    "#função que calcula a raiz da função para delta diferente de 0\n",
    "def raiz(a,b,vl_delta):\n",
    "    if(vl_delta == 0):\n",
    "        vlr_raiz = (-b / 2 * a)\n",
    "        return vlr_raiz\n",
    "    else:\n",
    "        x1 = ((-b + vl_delta ** 1/2) / (2 * a))\n",
    "        x2 = ((-b - vl_delta ** 1/2) / (2 * a))\n",
    "        return [x1, x2]\n",
    "\n",
    "#inicio do programa\n",
    "a = 0\n",
    "\n",
    "while (a == 0):\n",
    "    a = float(input(\"Insira o valor de 'a': \"))\n",
    "    if(a == 0):\n",
    "        print(\"O valor de 'a' não deve ser zero\")\n",
    "        break\n",
    "    else:\n",
    "        b = float(input(\"Insira o valor de 'b': \"))\n",
    "        c = float(input(\"Insira o valor de 'c': \"))\n",
    "        vlr_delta = delta(a,b,c)\n",
    "        if(vlr_delta < 0):\n",
    "            print(\"A equação não possui raízes reais.\")\n",
    "            break\n",
    "        elif(vlr_delta == 0):\n",
    "            raiz_func = raiz(a,b,vlr_delta)\n",
    "            print(\"A raíz da função é: %s\" %(raiz_func))\n",
    "        else:\n",
    "            raiz_funcao = raiz(a,b,vlr_delta)\n",
    "            print(\"As raízes da função são: %s\" %(raiz_funcao[:]))\n",
    "            "
   ]
  },
  {
   "cell_type": "markdown",
   "metadata": {},
   "source": [
    "10. Faça um Programa para um caixa eletrônico. O programa deverá perguntar ao usuário a valor do saque e depois informar quantas notas de cada valor serão fornecidas. As notas disponíveis serão as de 1, 5, 10, 50 e 100 reais. O valor mínimo é de 10 reais e o máximo de 600 reais. O programa não deve se preocupar com a quantidade de notas existentes na máquina.\n",
    "- Exemplo 1: Para sacar a quantia de 256 reais, o programa fornece duas notas de 100, uma nota de 50, uma nota de 5 e uma nota de 1;\n",
    "- Exemplo 2: Para sacar a quantia de 399 reais, o programa fornece três notas de 100, uma nota de 50, quatro notas de 10, uma nota de 5 e quatro notas de 1."
   ]
  },
  {
   "cell_type": "code",
   "execution_count": null,
   "metadata": {},
   "outputs": [],
   "source": [
    "saque = float(input(\"Insira o valor do saque: \"))\n",
    "saque_entrada = saque\n",
    "\n",
    "if(saque < 10 or saque > 600):\n",
    "    print(\"Valor de saque não permitido!\")\n",
    "else:\n",
    "    while(saque != 0):\n",
    "        notas_de_100 = int(saque/100)\n",
    "        saque -= notas_de_100 * 100\n",
    "        if(saque > 0):\n",
    "            notas_de_50 = int(saque/50)\n",
    "            saque -= notas_de_50 * 50\n",
    "            if(saque > 0):\n",
    "                notas_de_10 = int(saque/10)\n",
    "                saque -= notas_de_10 * 10\n",
    "                if(saque > 0):\n",
    "                    notas_de_5 = int(saque/5)\n",
    "                    saque -= notas_de_5 * 5\n",
    "                    if(saque > 0):\n",
    "                        notas_de_1 = int(saque/1)\n",
    "                        saque -= notas_de_1 * 1\n",
    "    else:\n",
    "        print(f'Para sacar: R$ {saque_entrada} você utilizará: \\n'\n",
    "             + f'{notas_de_100} notas de R$ 100.00 \\n'\n",
    "             + f'{notas_de_50} notas de R$ 50.00 \\n'\n",
    "             + f'{notas_de_10} notas de R$ 10.00 \\n'\n",
    "             + f'{notas_de_5} notas de R$ 5.00 \\n'\n",
    "             + f'{notas_de_1} notas de R$ 1.00')"
   ]
  },
  {
   "cell_type": "markdown",
   "metadata": {
    "collapsed": true
   },
   "source": [
    "11. Faça um programa que faça 5 perguntas para uma pessoa sobre um crime. As perguntas são:\n",
    "\"Telefonou para a vítima?\"\n",
    "\"Esteve no local do crime?\"\n",
    "\"Mora perto da vítima?\"\n",
    "\"Devia para a vítima?\"\n",
    "\"Já trabalhou com a vítima?\"\n",
    "O programa deve no final emitir uma classificação sobre a participação da pessoa no crime. Se a pessoa responder positivamente a 2 questões ela deve ser classificada como \"Suspeita\", entre 3 e 4 como \"Cúmplice\" e 5 como \"Assassino\". Caso contrário, ele será classificado como \"Inocente\"."
   ]
  },
  {
   "cell_type": "code",
   "execution_count": null,
   "metadata": {},
   "outputs": [],
   "source": [
    "p1 = input(\"Telefonou para a vítima? \")\n",
    "p2 = input(\"Esteve no local do crime? \")\n",
    "p3 = input(\"Mora perto da vítima? \")\n",
    "p4 = input(\"Devia para a vítima? \")\n",
    "p5 = input(\"Já trabalhou com a vítima? \")\n",
    "\n",
    "resp = [p1.upper(), p2.upper(), p3.upper(), p4.upper(), p5.upper()]\n",
    "classificacao = ['Inocente', 'Suspeita', 'Cúmplice', 'Assassino']\n",
    "cont = 0\n",
    "\n",
    "for resposta in resp:\n",
    "    if(resposta == 'SIM'):\n",
    "        cont += 1\n",
    "\n",
    "if(cont < 2):\n",
    "    print('Classificação: %s' %(classificacao[0]))\n",
    "elif(cont >= 2 and cont < 3):\n",
    "    print('Classificação: %s' %(classificacao[1]))\n",
    "elif(cont >= 3 and cont <= 4):\n",
    "    print('Classificação: %s' %(classificacao[2]))\n",
    "else:\n",
    "    print('Classificação: %s' %(classificacao[3]))\n",
    "        "
   ]
  },
  {
   "cell_type": "markdown",
   "metadata": {},
   "source": [
    "12. Uma fruteira está vendendo frutas com a seguinte tabela de preços:\n",
    "                Até 5 Kg          Acima de 5 Kg\n",
    "Morango    R$ 2,50 por Kg        R$ 2,20 por Kg\n",
    "Maçã       R$ 1,80 por Kg        R$ 1,50 por Kg\n",
    "Se o cliente comprar mais de 8 Kg em frutas ou o valor total da compra ultrapassar R$ 25,00, receberá ainda um desconto de 10% sobre este total. Escreva um algoritmo para ler a quantidade (em Kg) de morangos e a quantidade (em Kg) de maças adquiridas e escreva o valor a ser pago pelo cliente."
   ]
  },
  {
   "cell_type": "code",
   "execution_count": null,
   "metadata": {},
   "outputs": [],
   "source": [
    "#funcao que calcula o valor do preço do morango\n",
    "def preco_morango(kilos):\n",
    "    if(kilos < 5):\n",
    "        return kilos * 2.50\n",
    "    else:\n",
    "        return kilos * 2.20\n",
    "\n",
    "#funcao que calcula o valor do preco da maca\n",
    "def preco_maca(kilos):\n",
    "    if(kilos < 5):\n",
    "        return kilos * 1.80\n",
    "    else:\n",
    "        return kilos * 1.50\n",
    "\n",
    "#funcao que retorna uma soma\n",
    "def soma(morango, maca):\n",
    "    return morango + maca\n",
    "\n",
    "morango = float(input(\"Quantos kilos de morango você deseja adquirir? \"))\n",
    "maca = float(input(\"Quantos kilos de maçã você deseja adquirir? \"))\n",
    "\n",
    "preco_mor = preco_morango(morango)\n",
    "preco_mac = preco_maca(maca)\n",
    "\n",
    "if(soma(morango, maca) >= 8 or soma(preco_mor, preco_mac) >= 25):\n",
    "    desconto = 0.10\n",
    "    preco_fim = soma(preco_mor, preco_mac) * (1 - desconto)\n",
    "else:\n",
    "    desconto = 0.00\n",
    "    preco_fim = soma(preco_mor, preco_mac)\n",
    "\n",
    "print(60 * '*' + '\\n'\n",
    "     + f'Quantidade de Morangos - KG: {morango} \\t Preco: R$ {preco_mor} \\n'\n",
    "     + f'Quantidade de Maçãs - KG: {maca} \\t\\t Preco: R$ {preco_mac} \\n'\n",
    "     + 'Desconto: %d %% \\n' %(desconto*100)\n",
    "     + 'Preço final da compra: R$ %.2f'%(preco_fim))\n"
   ]
  },
  {
   "cell_type": "markdown",
   "metadata": {},
   "source": [
    "13. Faça um programa que peça uma nota, entre zero e dez. Mostre uma mensagem caso o valor seja inválido e continue pedindo até que o usuário informe um valor válido."
   ]
  },
  {
   "cell_type": "code",
   "execution_count": null,
   "metadata": {},
   "outputs": [],
   "source": [
    "while(True):\n",
    "    a = float(input(\"Insira uma nota entre 0 e 10: \"))\n",
    "    if(a < 0 or a > 10):\n",
    "        print(\"Valor inválido!\")\n",
    "        continue\n",
    "    else:\n",
    "        print(\"Válido!\")\n",
    "        break"
   ]
  },
  {
   "cell_type": "markdown",
   "metadata": {},
   "source": [
    "13. Faça um programa que leia e valide as seguintes informações:\n",
    "Nome: maior que 3 caracteres;\n",
    "Idade: entre 0 e 150;\n",
    "Salário: maior que zero;\n",
    "Sexo: 'f' ou 'm';\n",
    "Estado Civil: 's', 'c', 'v', 'd';"
   ]
  },
  {
   "cell_type": "code",
   "execution_count": null,
   "metadata": {},
   "outputs": [],
   "source": [
    "nome = \"\"\n",
    "idade = -1\n",
    "salario = -1\n",
    "sexo = \"a\"\n",
    "est_civil = \"\"\n",
    "\n",
    "while(len(nome) < 3):\n",
    "    nome = input(\"Insira um nome com mais de 3 caracteres: \")\n",
    "    if(len(nome) < 3):\n",
    "        print(\"Insira um nome maior do que 3 caracteres!\")\n",
    "        continue\n",
    "    else:\n",
    "        print(f'Nome: {nome} - é válido')\n",
    "\n",
    "while(idade < 0 or idade > 150):\n",
    "    idade = int(input(\"Insira uma idade entre 0 e 150 anos: \"))\n",
    "    if(idade < 0 or idade > 150):\n",
    "        print(\"Insira uma idade entre 0 e 150!\")\n",
    "        continue\n",
    "    else:\n",
    "        print(f'Idade: {idade} - é válida')\n",
    "\n",
    "while(salario < 0):\n",
    "    salario = float(input('Insira o valor de um salário: '))\n",
    "    if(salario < 0):\n",
    "        print(\"Insira um salário maior que zero!\")\n",
    "        continue\n",
    "    else:\n",
    "        print(f'Salário: {salario} - é válido')\n",
    "        \n",
    "while(sexo != 'm' and sexo != 'f'):\n",
    "    sexo = input(\"Insira um sexo do tipo 'm' ou 'f': \")\n",
    "    if(sexo != 'm' and sexo != 'f'):\n",
    "        print(\"Insira apenas 'm' ou 'f'!\")\n",
    "        continue\n",
    "    else:\n",
    "        print(f'Sexo: {sexo} - é válido')\n",
    "\n",
    "while(est_civil != 's' and est_civil != 'c' and est_civil != 'v' and est_civil != 'd'):\n",
    "    est_civil = input(\"Insira um estado civil do tipo 's', 'c', 'v', ou 'd': \")\n",
    "    if(est_civil != 's' and est_civil != 'c' and est_civil != 'v' and est_civil != 'd'):\n",
    "        print(\"Insira apenas 's', 'c', 'v' ou 'd'!\")\n",
    "        continue\n",
    "    else:\n",
    "        print(f'Estado Civil: {est_civil} - é válido')"
   ]
  },
  {
   "cell_type": "markdown",
   "metadata": {},
   "source": [
    "14. Faça um programa que leia 5 números e informe o maior número."
   ]
  },
  {
   "cell_type": "code",
   "execution_count": null,
   "metadata": {},
   "outputs": [],
   "source": [
    "x = 0\n",
    "lista = []\n",
    "\n",
    "while(x < 5):\n",
    "    n = float(input(\"Insira um número: \"))\n",
    "    lista.append(n)\n",
    "    x += 1\n",
    "\n",
    "print(\"O maior número dessa lista é: {}\".format(max(lista)))"
   ]
  },
  {
   "cell_type": "markdown",
   "metadata": {},
   "source": [
    "15. Faça um programa que leia 5 números e informe a soma e a média dos números."
   ]
  },
  {
   "cell_type": "code",
   "execution_count": null,
   "metadata": {},
   "outputs": [],
   "source": [
    "x = 0\n",
    "lista2 = []\n",
    "\n",
    "while(x < 5):\n",
    "    n1 = float(input(\"Insira um número: \"))\n",
    "    lista2.append(n1)\n",
    "    x += 1\n",
    "    \n",
    "print(\"A soma dos números dessa lista é: {} \\n\". format(sum(lista2))\n",
    "     + \"A média dos números dessa lista é: {}\". format((sum(lista2)/len(lista2))))"
   ]
  },
  {
   "cell_type": "markdown",
   "metadata": {},
   "source": [
    "16. Faça um programa que imprima na tela apenas os números ímpares entre 1 e 50."
   ]
  },
  {
   "cell_type": "code",
   "execution_count": null,
   "metadata": {},
   "outputs": [],
   "source": [
    "num = 0\n",
    "while(num <= 50):\n",
    "    if(num % 2 == 1):\n",
    "        print(num)\n",
    "    num += 1"
   ]
  },
  {
   "cell_type": "markdown",
   "metadata": {},
   "source": [
    "17. Desenvolva um gerador de tabuada, capaz de gerar a tabuada de qualquer número inteiro entre 1 a 10. O usuário deve informar de qual numero ele deseja ver a tabuada. A saída deve ser conforme o exemplo abaixo:\n",
    "Tabuada de 5:\n",
    "5 X 1 = 5\n",
    "5 X 2 = 10\n",
    "...\n",
    "5 X 10 = 50"
   ]
  },
  {
   "cell_type": "code",
   "execution_count": null,
   "metadata": {},
   "outputs": [],
   "source": [
    "vlr = int(input(\"Insira um número: \"))\n",
    "tabu = 1\n",
    "print(f'Tabuada do {vlr}:')\n",
    "while(tabu <= 10):\n",
    "    print('{} X {} = {}'.format(vlr, tabu, (vlr * tabu)))\n",
    "    tabu += 1"
   ]
  },
  {
   "cell_type": "markdown",
   "metadata": {},
   "source": [
    "18. A série de Fibonacci é formada pela seqüência 1,1,2,3,5,8,13,21,34,55,... Faça um programa capaz de gerar a série até o n−ésimo termo."
   ]
  },
  {
   "cell_type": "code",
   "execution_count": null,
   "metadata": {},
   "outputs": [],
   "source": [
    "parada = int(input(\"Indique o n-ésimo termo: \"))\n",
    "x = 0\n",
    "fibonacci = []\n",
    "\n",
    "while( x <= (parada - 1)):\n",
    "    if(x == 0 or x == 1):\n",
    "        fibonacci.append(1)\n",
    "        print(fibonacci[x])\n",
    "    else:\n",
    "        fib = fibonacci[x - 1] + fibonacci[x - 2]\n",
    "        fibonacci.append(fib)\n",
    "        print(fibonacci[x])\n",
    "    x += 1\n"
   ]
  },
  {
   "cell_type": "markdown",
   "metadata": {
    "collapsed": true
   },
   "source": [
    "19. Faça um programa que calcule o fatorial de um número inteiro fornecido pelo usuário. Ex.: 5!=5.4.3.2.1=120"
   ]
  },
  {
   "cell_type": "code",
   "execution_count": null,
   "metadata": {},
   "outputs": [],
   "source": [
    "fat_num = int(input(\"Insira um número: \"))\n",
    "fat_numero = fat_num\n",
    "numeros = []\n",
    "fatorial = 1\n",
    "\n",
    "while(fat_num > 0):\n",
    "    numeros.append(fat_num)\n",
    "    fat_num -= 1\n",
    "\n",
    "for n in numeros:\n",
    "    fatorial *= n\n",
    "\n",
    "print(f'O fatorial de {fat_numero} é: {fatorial}')"
   ]
  },
  {
   "cell_type": "markdown",
   "metadata": {},
   "source": [
    "20. O Sr. Manoel Joaquim possui uma grande loja de artigos de R$ 1,99, com cerca de 10 caixas. Para agilizar o cálculo de quanto cada cliente deve pagar ele desenvolveu um tabela que contém o número de itens que o cliente comprou e ao lado o valor da conta. Desta forma a atendente do caixa precisa apenas contar quantos itens o cliente está levando e olhar na tabela de preços. Você foi contratado para desenvolver o programa que monta esta tabela de preços, que conterá os preços de 1 até 50 produtos, conforme o exemplo abaixo:\n",
    "Lojas Quase Dois - Tabela de preços\n",
    "1 - R$ 1.99\n",
    "2 - R$ 3.98\n",
    "...\n",
    "50 - R$ 99.50"
   ]
  },
  {
   "cell_type": "code",
   "execution_count": null,
   "metadata": {},
   "outputs": [],
   "source": [
    "itens = list(range(1,51))\n",
    "preco = []\n",
    "x = 0\n",
    "\n",
    "for item in itens:\n",
    "    vlr = item * 1.99\n",
    "    preco.append(vlr)\n",
    "\n",
    "print(40 * '-')\n",
    "print('QUANTIDADE' + '\\t' + '|' + '\\t' + 'PRECO')\n",
    "print(40 * '-')\n",
    "\n",
    "while(x < len(itens) or x < len(preco)):\n",
    "    print( '{}'.format(itens[x]) + (2 * '\\t') + '|' + '\\t' + '{}'.format(preco[x]))\n",
    "    print(40 * '-')\n",
    "    x += 1"
   ]
  },
  {
   "cell_type": "markdown",
   "metadata": {},
   "source": [
    "21. O Sr. Manoel Joaquim acaba de adquirir uma panificadora e pretende implantar a metodologia da tabelinha, que já é um sucesso na sua loja de 1,99. Você foi contratado para desenvolver o programa que monta a tabela de preços de pães, de 1 até 50 pães, a partir do preço do pão informado pelo usuário, conforme o exemplo abaixo:\n",
    "Preço do pão: R$ 0.18\n",
    "Panificadora Pão de Ontem - Tabela de preços\n",
    "1 - R$ 0.18\n",
    "2 - R$ 0.36\n",
    "...\n",
    "50 - R$ 9.00"
   ]
  },
  {
   "cell_type": "code",
   "execution_count": null,
   "metadata": {},
   "outputs": [],
   "source": [
    "preco_informado = float(input(\"Insira o preço do pão: \"))\n",
    "\n",
    "itens = list(range(1,51))\n",
    "preco = []\n",
    "x = 0\n",
    "\n",
    "for item in itens:\n",
    "    vlr = item * preco_informado\n",
    "    preco.append(vlr)\n",
    "\n",
    "print('\\n' + 40 * '-')\n",
    "print('QUANTIDADE' + '\\t' + '|' + '\\t' + 'PRECO')\n",
    "print(40 * '-')\n",
    "\n",
    "while(x < len(itens) or x < len(preco)):\n",
    "    print( '{}'.format(itens[x]) + (2 * '\\t') + '|' + '\\t' + '%.2f'%(preco[x]))\n",
    "    print(40 * '-')\n",
    "    x += 1"
   ]
  },
  {
   "cell_type": "markdown",
   "metadata": {},
   "source": [
    "22. O Sr. Manoel Joaquim expandiu seus negócios para além dos negócios de 1,99 e agora possui uma loja de conveniências. Faça um programa que implemente uma caixa registradora rudimentar. O programa deverá receber um número desconhecido de valores referentes aos preços das mercadorias. Um valor zero deve ser informado pelo operador para indicar o final da compra. O programa deve então mostrar o total da compra e perguntar o valor em dinheiro que o cliente forneceu, para então calcular e mostrar o valor do troco. Após esta operação, o programa deverá voltar ao ponto inicial, para registrar a próxima compra. A saída deve ser\n",
    "conforme o exemplo abaixo:\n",
    "Lojas Tabajara\n",
    "Produto 1: R$ 2.20\n",
    "Produto 2: R$ 5.80\n",
    "Produto 3: R$ 0\n",
    "Total: R$ 9.00\n",
    "Dinheiro: R$ 20.00\n",
    "Troco: R$ 11.00\n",
    "..."
   ]
  },
  {
   "cell_type": "code",
   "execution_count": null,
   "metadata": {},
   "outputs": [],
   "source": [
    "while(True):\n",
    "    valor = -1\n",
    "    precos = []\n",
    "    cont = 0\n",
    "    falta = 0\n",
    "    while(valor != 0):\n",
    "        valor = float(input(\"Preço do produto: \"))\n",
    "        precos.append(valor)\n",
    "    else:\n",
    "        quantidade = list(range(1, len(precos)))\n",
    "        total_compra = sum(precos)\n",
    "        while(cont <= (len(quantidade)- 1)):\n",
    "            print(20 * '-')\n",
    "            print('Produto {}: R$ {}'.format(quantidade[cont], precos[cont]))\n",
    "            cont += 1\n",
    "        print(20 * '-' + f'\\nTOTAL: R$ {total_compra}')\n",
    "        recebimento = float(input(\"DINHEIRO: \"))\n",
    "        if(recebimento < total_compra):\n",
    "            a_receber = total_compra - recebimento\n",
    "            while(falta < a_receber):\n",
    "                falta = float(input(f\"Falta receber R$ {a_receber}, insira esse valor: \"))\n",
    "            print(\"TROCO: R${} \\n\".format((recebimento + falta) - total_compra))\n",
    "        else:\n",
    "            print(\"TROCO: R${} \\n\".format(recebimento - total_compra))\n",
    "    continue"
   ]
  },
  {
   "cell_type": "markdown",
   "metadata": {},
   "source": [
    "23. Foi feita uma estatística em cinco cidades brasileiras para coletar dados sobre acidentes de trânsito. Foram obtidos os seguintes dados:\n",
    "- Código da cidade;\n",
    "- Número de veículos de passeio (em 1999);\n",
    "- Número de acidentes de trânsito com vítimas (em 1999). Deseja-se saber:\n",
    "- Qual o maior e menor índice de acidentes de transito e a que cidade pertence;\n",
    "- Qual a média de veículos nas cinco cidades juntas;\n",
    "- Qual a média de acidentes de trânsito nas cidades com menos de 2.000 veículos de passeio."
   ]
  },
  {
   "cell_type": "code",
   "execution_count": null,
   "metadata": {},
   "outputs": [],
   "source": [
    "x = 0\n",
    "estatistica = []\n",
    "cont = 0\n",
    "lista1 = []\n",
    "\n",
    "while(x < 5):\n",
    "    lista = []\n",
    "    id_cidade = int(input(\"Insira o código da cidade: \"))\n",
    "    n_carros = int(input(\"Insira a quantidade de carros: \"))\n",
    "    n_acidentes = int(input(\"Insira o número de acidentes de transito: \"))\n",
    "    lista = [id_cidade, n_carros, n_acidentes]\n",
    "    estatistica.append(lista)\n",
    "    x += 1\n",
    "\n",
    "#verifica a cidade com o maior e o menor indice de acidentes\n",
    "acidentes = {row[0]:row[2] for row in estatistica}\n",
    "chaves = list(acidentes.keys())\n",
    "valores = list(acidentes.values())\n",
    "\n",
    "maior = max(valores)\n",
    "indice_maior = valores.index(maior)\n",
    "print(\"\\nO maior índice de acidentes é %d, onde o código da cidade é %d\" %(maior, chaves[indice_maior]))\n",
    "menor = min(valores)\n",
    "indice_menor = valores.index(menor)\n",
    "print(\"\\nO menor índice de acidentes é %d, onde o código da cidade é %d\" %(menor, chaves[indice_menor]))\n",
    "\n",
    "#verifica a média de veículos nas 5 cidades\n",
    "veiculos = [row[1] for row in estatistica]\n",
    "media = sum(veiculos)/len(veiculos)\n",
    "print(\"\\nA média de veículos nas 5 cidades é %.2f\" %(media))\n",
    "\n",
    "#verifica a média de acidentes onde veiculos < 2000\n",
    "cidade_acidente = {row[0]:row[2] for row in estatistica}\n",
    "cidade_acidente_k = list(cidade_acidente.keys())\n",
    "cidade_acidente_v = list(cidade_acidente.values())\n",
    "\n",
    "cidade_veiculo = {row[0]:row[1] for row in estatistica}\n",
    "cidade_veiculo_k = list(cidade_veiculo.keys())\n",
    "cidade_veiculo_v = list(cidade_veiculo.values())\n",
    "\n",
    "for carro in cidade_veiculo_v:\n",
    "    if(carro < 2000):\n",
    "        indice_carro = cidade_veiculo_v.index(carro)\n",
    "        lista1 += [cidade_acidente_v[indice_carro]]\n",
    "        \n",
    "mediaCalculada = sum(lista1)/len(lista1)\n",
    "print('\\nA média de acidentes nas cidades onde os veículos são menores que 2000 é: %.2f' %(mediaCalculada))"
   ]
  },
  {
   "cell_type": "markdown",
   "metadata": {},
   "source": [
    "24. Faça um programa que receba o valor de uma dívida e mostre uma tabela com os seguintes dados: valor da dívida, valor dos juros, quantidade de parcelas e valor da parcela.\n",
    "Os juros e a quantidade de parcelas seguem a tabela abaixo:\n",
    "Quantidade de Parcelas            % de Juros sobre o valor inicial da dívida\n",
    "1                                       0\n",
    "3                                       10\n",
    "6                                       15\n",
    "9                                       20\n",
    "12                                      25\n",
    "Exemplo de saída do programa:\n",
    "Valor da Dívida     Valor dos Juros     Quantidade de Parcelas           Valor da Parcela\n",
    "R$ 1.000,00         0                   1                                R$ 1.000,00\n",
    "R$ 1.100,00         100                 3                                R$ 366,00\n",
    "R$ 1.150,00         150                 6                                R$ 191,67"
   ]
  },
  {
   "cell_type": "code",
   "execution_count": null,
   "metadata": {},
   "outputs": [],
   "source": [
    "divida = float(input(\"Insira o valor da dívida: \"))\n",
    "parcelas = [1, 3, 6, 9, 12]\n",
    "juros = [ 0, .10, .15, .20, .25]\n",
    "y = 0\n",
    "\n",
    "def valor_juros(valor_divida, valor_porcentagem):\n",
    "    return valor_divida * valor_porcentagem\n",
    "\n",
    "def valor_parcela(valor_divida, quantidade_parcelas):\n",
    "    return valor_divida / quantidade_parcelas\n",
    "\n",
    "def calcula_divida(valor_divida, valor_juros):\n",
    "    return valor_divida + valor_juros\n",
    "\n",
    "print(125 * '-')\n",
    "print('Valor da Dívida' + (2 * '\\t') + '|' + ('\\t') + 'Valor dos Juros' + (2 * '\\t') + '|' + ('\\t') + \n",
    "                             'Quantidade de Parcelas' + (2 * '\\t') + '|' + ('\\t') + 'Valor da Parcela')\n",
    "while(y < 5):\n",
    "    vlr_juros = valor_juros(divida, juros[y])\n",
    "    vlr_divida = calcula_divida(divida, vlr_juros)\n",
    "    qtdParcelas = parcelas[y]\n",
    "    vlr_parcela = valor_parcela(vlr_divida, qtdParcelas)\n",
    "    print(125 * '-')\n",
    "    print('%.2f'%(vlr_divida) + (3 * '\\t') + '|' + ('\\t') + '%.2f'%(vlr_juros) + (3 * '\\t') + '|' + ('\\t') + \n",
    "                             '%d'%(qtdParcelas) + (4 * '\\t') + '|' + ('\\t') + '%.2f'%(vlr_parcela))\n",
    "    \n",
    "    y += 1"
   ]
  },
  {
   "cell_type": "markdown",
   "metadata": {},
   "source": [
    "25. Faça um programa que mostre os n termos da Série a seguir:\n",
    "S = 1/1 + 2/3 + 3/5 + 4/7 + 5/9 + ... + n/m.\n",
    "Imprima no final a soma da série."
   ]
  },
  {
   "cell_type": "code",
   "execution_count": null,
   "metadata": {
    "collapsed": true
   },
   "outputs": [],
   "source": [
    "parada = int(input(\"Insira o n-ésimo termo: \"))\n",
    "divisor = list(range(1,parada + 1,1))\n",
    "x = 0\n",
    "lista = []\n",
    "for elemento in divisor:\n",
    "    while(True):\n",
    "        if(x % 2 == 1):\n",
    "            lista += [str(elemento)+ '/' + str(x)]\n",
    "            #print(lista)\n",
    "        x += 1"
   ]
  },
  {
   "cell_type": "markdown",
   "metadata": {
    "collapsed": true
   },
   "source": [
    "25. Faça um programa que mostre os n termos da Série a seguir:\n",
    "S = 1/1 + 2/3 + 3/5 + 4/7 + 5/9 + ... + n/m.\n",
    "Imprima no final a soma da série."
   ]
  },
  {
   "cell_type": "code",
   "execution_count": null,
   "metadata": {},
   "outputs": [],
   "source": [
    "n = int(input(\"Insira o n-ésimo termo: \"))\n",
    "lista = list(range(1, n + 1))\n",
    "cont = 0\n",
    "x = 1\n",
    "s = 0\n",
    "while(cont < len(lista)):\n",
    "    s += (lista[cont]/x)\n",
    "    x += 2\n",
    "    cont += 1\n",
    "print('Soma da série = %.2f' %(s))"
   ]
  },
  {
   "cell_type": "code",
   "execution_count": null,
   "metadata": {
    "collapsed": true
   },
   "outputs": [],
   "source": []
  }
 ],
 "metadata": {
  "kernelspec": {
   "display_name": "Python 3",
   "language": "python",
   "name": "python3"
  },
  "language_info": {
   "codemirror_mode": {
    "name": "ipython",
    "version": 3
   },
   "file_extension": ".py",
   "mimetype": "text/x-python",
   "name": "python",
   "nbconvert_exporter": "python",
   "pygments_lexer": "ipython3",
   "version": "3.6.3"
  }
 },
 "nbformat": 4,
 "nbformat_minor": 2
}
